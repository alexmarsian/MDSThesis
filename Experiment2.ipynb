{
 "cells": [
  {
   "cell_type": "markdown",
   "id": "d5818b65-65e3-4674-9a4b-ea625bdb0984",
   "metadata": {},
   "source": [
    "Experiment 2:\n",
    "* Different Noise rates for dense vs. sparse algorithms\n",
    "* Different sparsity values for the random sparse algorithm\n",
    "* WRITE UP\n",
    "* Sparse Evolutionary Training across different noise rates"
   ]
  },
  {
   "cell_type": "code",
   "execution_count": null,
   "id": "9d3019dd-0537-4f9b-8026-16a67e20acb7",
   "metadata": {},
   "outputs": [],
   "source": []
  }
 ],
 "metadata": {
  "kernelspec": {
   "display_name": "Python 3 (ipykernel)",
   "language": "python",
   "name": "python3"
  },
  "language_info": {
   "codemirror_mode": {
    "name": "ipython",
    "version": 3
   },
   "file_extension": ".py",
   "mimetype": "text/x-python",
   "name": "python",
   "nbconvert_exporter": "python",
   "pygments_lexer": "ipython3",
   "version": "3.8.12"
  }
 },
 "nbformat": 4,
 "nbformat_minor": 5
}
